{
 "cells": [
  {
   "cell_type": "code",
   "execution_count": null,
   "id": "de81fa7a-072e-4966-ba32-cee595a5bb8a",
   "metadata": {},
   "outputs": [],
   "source": []
  }
 ],
 "metadata": {
  "kernelspec": {
   "display_name": "",
   "name": ""
  },
  "language_info": {
   "name": ""
  }
 },
 "nbformat": 4,
 "nbformat_minor": 5
}
